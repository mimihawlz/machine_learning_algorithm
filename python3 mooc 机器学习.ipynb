{
 "cells": [
  {
   "cell_type": "markdown",
   "metadata": {},
   "source": [
    "### python3 mooc 机器学习\n",
    "- 垃圾邮件分辨:\n",
    "- 规则很难定义  规则在不断变化\n",
    "- 图像识别 猫狗大战 二分类问题 人脸识别(计算机识别 ) 数字识别领域MNIST数据集\n",
    "- KNN  线性回归 逻辑回归 模型正则化 PCA SVM 决策树 随机森林 集成学习\n",
    "- 模型选择 模型调整"
   ]
  },
  {
   "cell_type": "markdown",
   "metadata": {},
   "source": [
    "- 深入理解算法基本原理\n",
    "- 实际使用算法解决真实场景的问题\n",
    "- 对不同算法进行对比试验\n",
    "- 对统一算法的不同参数进行对比试验\n",
    "- 对部分算法底层编写"
   ]
  },
  {
   "cell_type": "markdown",
   "metadata": {},
   "source": [
    "#### 如何使用算法\n",
    "- 如何评价算法的好坏\n",
    "- 如何解决过拟合和欠拟合\n",
    "- 如何调节算法参数\n",
    "- 如何验证算法正确性\n",
    "![image.png](attachment:image.png)"
   ]
  },
  {
   "cell_type": "markdown",
   "metadata": {},
   "source": [
    "![image.png](attachment:image.png)"
   ]
  },
  {
   "cell_type": "markdown",
   "metadata": {},
   "source": [
    "### 机器学习基础概念\n",
    "- 关于数据: 鸢尾花 \n",
    "![image.png](attachment:image.png)"
   ]
  },
  {
   "cell_type": "markdown",
   "metadata": {},
   "source": [
    "![image.png](attachment:image.png)\n",
    "- 数据整体叫数据集\n",
    "- 每一行数据称为一个样本(sample)\n",
    "- 除最后一列 每一列代表样本的一个特征(feature)\n",
    "第i个样本行写作$X^(i)$第i个样本第`j`个特征值$X_{j}^{(i)}$\n",
    "- 最后一列 称为标记label \n",
    "- 大写矩阵 小写向量\n",
    "- 第i个样本的标记写作$y^{(i)}$"
   ]
  },
  {
   "cell_type": "markdown",
   "metadata": {},
   "source": [
    "![image.png](attachment:image.png)\n",
    "- 向量主要以列向量为多数\n",
    "- 可以表示二维空间\n",
    "- 也可以写成多维特征==表示多维空间"
   ]
  },
  {
   "cell_type": "markdown",
   "metadata": {},
   "source": [
    "![image.png](attachment:image.png)\n",
    "- 分类任务本质在特征空间切分\n",
    "- 在高维空间同理\n",
    "- 在机器学习识别 特征可以很抽象  \n",
    "  - 图像: 每一个像素点都是特征\n",
    "  - 28*28的图像有28*28=784个特征\n",
    "  - 彩色图像特征值更多\n",
    "  "
   ]
  },
  {
   "cell_type": "markdown",
   "metadata": {},
   "source": [
    "### 机器学习的基本任务\n",
    "#### 分类\n",
    "- 二分类(判别猫和狗) 判断邮件垃圾 判断发放给客户信用卡有风险\n",
    "- 多分类任务: 手写数字识别 图像识别 判断发放给客户信用卡的风险评级 2048上下左右移动 下棋落子  无人车领域(选择方向盘 幅度)组合选择一个 \n",
    "- 一些算法只支持完成二分类\n",
    "- 多分类的任务可以转换成二分类\n",
    "- 有些算法天然可以完成多分类任务\n",
    "- 多标签分类：把一张图片分类在多维空间中 前沿课题 不讲\n",
    "#### 回归\n",
    "- 结果是一个连续数字的值 而非一个类别\n",
    "  - 房屋价格\n",
    "  - 市场分析\n",
    "  - 学生成绩\n",
    "  - 股票价格\n",
    "- 有些算法只能解决回归\n",
    "- 有些算法只能解决分类问题\n",
    "- 一些算法思路既能解决回归问题 有鞥解决分类问题\n",
    "- 回归任务可以简化为分类任务\n",
    "  - 无人驾驶 方向盘是一个连续数值 回归简化为分类任务\n",
    "  - 学生具体成绩转换为评级"
   ]
  },
  {
   "cell_type": "markdown",
   "metadata": {},
   "source": [
    "### 算法分类:监督 非监督 半监督 增强学习\n",
    "- 监督学习:给机器的训练数据拥有标记或者答案(告诉机器具体答案 label即输出值)\n",
    "- 图像已经拥有了标定信息\n",
    "- 银行已经积累了一定的客户信息和他们信用卡的信用情况\n",
    "- 医院已经积累了一定的病人信息和他们最终确诊是否患病的情况\n",
    "- 市场积累了房屋的基本信息和最终成交的金额\n",
    "#### 监督学习主要包括:KNN 线性回归和多项式回归  逻辑回归 SVM 决策树和随机森林\n",
    "\n",
    "#### 非监督学习: 没有标记 \n",
    "- 基于非监督学习 进行数据分类- 聚类分析(电商网站为客户进行贴标签 进行标记)\n",
    "- 对数据进行降维处理\n",
    "  - 特征提取:信用卡的信用评级和人的胖瘦无关\n",
    "  - 特征压缩:PCA 28 * 28  = 784\n",
    "![image.png](attachment:image.png)\n",
    "- 画了直线 二维点变成一维点 784经过PCA只需要几十个点\n",
    "- 将高维变成低维\n",
    "- 降维处理的意义:方便可视化 （二三维度）\n",
    "- 异常检测\n",
    "\n",
    "#### 半监督学习\n",
    "- 一部分数据有标记或者答案，另一部分数据没有\n",
    "- 更常见:各种原因产生的标记缺失\n",
    "- 通常先使用无监督学习手段对数据做处理 之后使用监督学习手段做模型的训练和预测\n",
    "\n",
    "#### 增强学习:"
   ]
  },
  {
   "cell_type": "markdown",
   "metadata": {},
   "source": [
    "![image.png](attachment:image.png)"
   ]
  },
  {
   "cell_type": "markdown",
   "metadata": {},
   "source": [
    "### 机器学习\n",
    "#### 批量学习 batch learning\n",
    "- 训练好模型后 不会再修改模型了\n",
    "- 优点:简单\n",
    "- 问题:如何适应环境的变化?\n",
    "- 垃圾邮件检测 解决方案:定时重新批量学习\n",
    "- 缺点:每次重新批量学习 运算量巨大;在某些环境变化非常快的情况下 甚至不可能的。(股市无法)\n",
    "\n",
    "#### 在线学习 online learning（自己学习）\n",
    "![image.png](attachment:image.png)\n",
    "- 优点:及时反映新的环境变化\n",
    "- 问题:新的数据带来不好的变化\n",
    "- 解决方案:需要加强对数据进行监控\n",
    "- 其他：也适用于数据量巨大 完全无法批量学习的环境"
   ]
  },
  {
   "cell_type": "markdown",
   "metadata": {},
   "source": [
    "### 参数学习\n",
    "![image.png](attachment:image.png)\n",
    "- 参数学习的特点:\n",
    "  - 一旦学到了参数 就不再需要原有的数据集\n",
    "### 非参数学习\n",
    "- 不对模型进行过多假设\n",
    "- 非参数不等于没有参数 （有很多参数 不对整个过程当做建模 不把过程当做学习 学习过程依然需要参数）"
   ]
  },
  {
   "cell_type": "markdown",
   "metadata": {},
   "source": [
    "### 和机器学习相关的哲学思考\n",
    "- 解决高度不确定性的 统计学的问题\n",
    "![image.png](attachment:image.png)\n",
    "- 数据即算法\n",
    "  - 数据确实非常重要\n",
    "  - 数据驱动 \n",
    "  - 需要收集更多地数据\n",
    "  - 提高数据质量\n",
    "  - 提高数据的代表性\n",
    "  - 研究更重要的特性\n",
    "\n",
    "- 算法也很重要 需要最大程度\n",
    "- 奥卡姆的剃刀:\n",
    "  - 简单的就是好的\n",
    "  - 什么叫简单\n",
    "  - 没有免费午餐定理 任意两个算法 他们的期望性能是相同的\n",
    "  - 具体到某个特定问题 有些算法更好\n",
    "  - 脱离具体问题 谈哪个算法好是没有意义的\n",
    "  - 在面对一个具体问题 尝试多种算法进行对比试验 是很有必要的"
   ]
  },
  {
   "cell_type": "markdown",
   "metadata": {},
   "source": [
    "### KNN近邻算法\n",
    "![image.png](attachment:image.png)\n",
    "- KNN本质:如果两个样本足够相似 有更高概率属于同一个类别\n",
    "- 相似性通过两个之间的空间距离"
   ]
  },
  {
   "cell_type": "markdown",
   "metadata": {},
   "source": [
    "![image.png](attachment:image.png)"
   ]
  },
  {
   "cell_type": "code",
   "execution_count": 1,
   "metadata": {},
   "outputs": [],
   "source": [
    "import numpy as np\n",
    "import matplotlib.pyplot as plt"
   ]
  },
  {
   "cell_type": "code",
   "execution_count": 2,
   "metadata": {},
   "outputs": [],
   "source": [
    "raw_data_x = [[3.333,2.313],\n",
    "             [3.111,1.781],\n",
    "             [1.343,3.368],\n",
    "             [3.582,4.679],\n",
    "             [2.280,2.866],\n",
    "             [7.423,4.696],\n",
    "             [5.745,3.533],\n",
    "             [9.172,2.511],\n",
    "             [7.792,3.424],\n",
    "             [7.939,0.791]]\n",
    "raw_data_y = [0,0,0,0,0,1,1,1,1,1]"
   ]
  },
  {
   "cell_type": "code",
   "execution_count": 13,
   "metadata": {},
   "outputs": [],
   "source": [
    "X_train = np.array(raw_data_x)\n",
    "y_train = np.array(raw_data_y)"
   ]
  },
  {
   "cell_type": "code",
   "execution_count": 14,
   "metadata": {},
   "outputs": [
    {
     "data": {
      "text/plain": [
       "array([[3.333, 2.313],\n",
       "       [3.111, 1.781],\n",
       "       [1.343, 3.368],\n",
       "       [3.582, 4.679],\n",
       "       [2.28 , 2.866],\n",
       "       [7.423, 4.696],\n",
       "       [5.745, 3.533],\n",
       "       [9.172, 2.511],\n",
       "       [7.792, 3.424],\n",
       "       [7.939, 0.791]])"
      ]
     },
     "execution_count": 14,
     "metadata": {},
     "output_type": "execute_result"
    }
   ],
   "source": [
    "X_train"
   ]
  },
  {
   "cell_type": "code",
   "execution_count": 5,
   "metadata": {},
   "outputs": [
    {
     "data": {
      "text/plain": [
       "array([0, 0, 0, 0, 0, 1, 1, 1, 1, 1])"
      ]
     },
     "execution_count": 5,
     "metadata": {},
     "output_type": "execute_result"
    }
   ],
   "source": [
    "y_train"
   ]
  },
  {
   "cell_type": "code",
   "execution_count": 7,
   "metadata": {},
   "outputs": [
    {
     "data": {
      "image/png": "[encoded data removed]",
      "text/plain": [
       "<Figure size 432x288 with 1 Axes>"
      ]
     },
     "metadata": {
      "needs_background": "light"
     },
     "output_type": "display_data"
    }
   ],
   "source": [
    "plt.scatter(X_train[y_train==0,0],X_train[y_train==0,1],color='g')\n",
    "plt.scatter(X_train[y_train==1,0],X_train[y_train==1,1],color='r')\n",
    "plt.show()\n",
    "'''\n",
    "show the raw materials\n",
    "'''"
   ]
  },
  {
   "cell_type": "code",
   "execution_count": 8,
   "metadata": {},
   "outputs": [],
   "source": [
    "x = np.array([8.093,3.365])\n",
    "'''\n",
    "新出现一个点 需要单独绘制\n",
    "'''"
   ]
  },
  {
   "cell_type": "code",
   "execution_count": 11,
   "metadata": {},
   "outputs": [
    {
     "data": {
      "image/png": "[encoded data removed]",
      "text/plain": [
       "<Figure size 432x288 with 1 Axes>"
      ]
     },
     "metadata": {
      "needs_background": "light"
     },
     "output_type": "display_data"
    }
   ],
   "source": [
    "plt.scatter(x_train[y_train==0,0],x_train[y_train==0,1],color='g')\n",
    "plt.scatter(x_train[y_train==1,0],x_train[y_train==1,1],color='r')\n",
    "plt.scatter(x[0],x[1],color='b')\n",
    "plt.show()"
   ]
  },
  {
   "cell_type": "markdown",
   "metadata": {},
   "source": [
    "### KNN过程\n",
    "\n",
    "- 欧拉距离:\n",
    "\n",
    "![image.png](attachment:image.png)\n",
    "$X_{1}^{(a)}$:第a个数据第1个特征\n",
    "\n",
    "$X_{1}^{(b)}$：第b个数据第1个特征\n",
    "\n",
    "- 欧拉距离公式:\n",
    "$\\sqrt{\\sum_{i=1}^{n}(X_{i}^{(a)} - X_{i}^{(b)^{2}})}$"
   ]
  },
  {
   "cell_type": "code",
   "execution_count": 15,
   "metadata": {},
   "outputs": [],
   "source": [
    "from math import sqrt\n",
    "distances = []\n",
    "for x_train in X_train:\n",
    "    d = sqrt(np.sum((x_train -x)**2))\n",
    "    #对结果向量每一个元素进行求平方然后求和\n",
    "    distances.append(d)#将结果附加到上面"
   ]
  },
  {
   "cell_type": "code",
   "execution_count": 16,
   "metadata": {},
   "outputs": [
    {
     "data": {
      "text/plain": [
       "[4.874864510937714,\n",
       " 5.227750950456611,\n",
       " 6.750000666666634,\n",
       " 4.6984802862202155,\n",
       " 5.834378287358474,\n",
       " 1.4901211360154578,\n",
       " 2.354002548851636,\n",
       " 1.37606576877706,\n",
       " 0.30672789243888476,\n",
       " 2.578602722406071]"
      ]
     },
     "execution_count": 16,
     "metadata": {},
     "output_type": "execute_result"
    }
   ],
   "source": [
    "distances"
   ]
  },
  {
   "cell_type": "code",
   "execution_count": 17,
   "metadata": {},
   "outputs": [],
   "source": [
    "'''\n",
    "一句话表达 KNN算法\n",
    "'''\n",
    "distances = [sqrt(np.sum((x_train -x)**2)) for x_train in X_train]"
   ]
  },
  {
   "cell_type": "code",
   "execution_count": 18,
   "metadata": {},
   "outputs": [
    {
     "data": {
      "text/plain": [
       "[4.874864510937714,\n",
       " 5.227750950456611,\n",
       " 6.750000666666634,\n",
       " 4.6984802862202155,\n",
       " 5.834378287358474,\n",
       " 1.4901211360154578,\n",
       " 2.354002548851636,\n",
       " 1.37606576877706,\n",
       " 0.30672789243888476,\n",
       " 2.578602722406071]"
      ]
     },
     "execution_count": 18,
     "metadata": {},
     "output_type": "execute_result"
    }
   ],
   "source": [
    "distances"
   ]
  },
  {
   "cell_type": "code",
   "execution_count": 19,
   "metadata": {},
   "outputs": [
    {
     "data": {
      "text/plain": [
       "array([8, 7, 5, 6, 9, 3, 0, 1, 4, 2], dtype=int64)"
      ]
     },
     "execution_count": 19,
     "metadata": {},
     "output_type": "execute_result"
    }
   ],
   "source": [
    "#对结果进行排序 并返回结果的索引\n",
    "# the result applies to the \n",
    "np.argsort(distances)"
   ]
  },
  {
   "cell_type": "code",
   "execution_count": 20,
   "metadata": {},
   "outputs": [],
   "source": [
    "nearest = np.argsort(distances)"
   ]
  },
  {
   "cell_type": "code",
   "execution_count": 21,
   "metadata": {},
   "outputs": [],
   "source": [
    "k = 6"
   ]
  },
  {
   "cell_type": "code",
   "execution_count": 22,
   "metadata": {},
   "outputs": [],
   "source": [
    "topK_y = [y_train[i] for i in nearest[:k]]\n",
    "'''\n",
    "将最近的6个点返回对应的结果集\n",
    "'''"
   ]
  },
  {
   "cell_type": "code",
   "execution_count": 23,
   "metadata": {},
   "outputs": [
    {
     "data": {
      "text/plain": [
       "[1, 1, 1, 1, 1, 0]"
      ]
     },
     "execution_count": 23,
     "metadata": {},
     "output_type": "execute_result"
    }
   ],
   "source": [
    "topK_y"
   ]
  },
  {
   "cell_type": "code",
   "execution_count": 24,
   "metadata": {},
   "outputs": [
    {
     "data": {
      "text/plain": [
       "Counter({0: 1, 1: 5})"
      ]
     },
     "execution_count": 24,
     "metadata": {},
     "output_type": "execute_result"
    }
   ],
   "source": [
    "#将出现的频次进行统计 字典\n",
    "from collections import Counter\n",
    "Counter(topK_y)"
   ]
  },
  {
   "cell_type": "code",
   "execution_count": 25,
   "metadata": {},
   "outputs": [],
   "source": [
    "votes = Counter(topK_y)"
   ]
  },
  {
   "cell_type": "code",
   "execution_count": 26,
   "metadata": {},
   "outputs": [
    {
     "data": {
      "text/plain": [
       "[(1, 5)]"
      ]
     },
     "execution_count": 26,
     "metadata": {},
     "output_type": "execute_result"
    }
   ],
   "source": [
    "votes.most_common(1)\n",
    "#数组"
   ]
  },
  {
   "cell_type": "code",
   "execution_count": 27,
   "metadata": {},
   "outputs": [
    {
     "data": {
      "text/plain": [
       "(1, 5)"
      ]
     },
     "execution_count": 27,
     "metadata": {},
     "output_type": "execute_result"
    }
   ],
   "source": [
    "votes.most_common(1)[0]\n",
    "#元组 tumple"
   ]
  },
  {
   "cell_type": "code",
   "execution_count": 28,
   "metadata": {},
   "outputs": [
    {
     "data": {
      "text/plain": [
       "1"
      ]
     },
     "execution_count": 28,
     "metadata": {},
     "output_type": "execute_result"
    }
   ],
   "source": [
    "votes.most_common(1)[0][0]"
   ]
  },
  {
   "cell_type": "code",
   "execution_count": 29,
   "metadata": {},
   "outputs": [
    {
     "data": {
      "text/plain": [
       "1"
      ]
     },
     "execution_count": 29,
     "metadata": {},
     "output_type": "execute_result"
    }
   ],
   "source": [
    "predict_y = votes.most_common(1)[0][0]\n",
    "predict_y"
   ]
  },
  {
   "cell_type": "markdown",
   "metadata": {},
   "source": [
    "![image.png](attachment:image.png)"
   ]
  },
  {
   "cell_type": "markdown",
   "metadata": {},
   "source": [
    "### KNN算法\n",
    "- k近邻算法是非常特殊的，可以被认为是没有模型的算法\n",
    "- 为了和其他算法统一 可以认为训练数据集就是模型本身\n",
    "\n",
    "### 使用scikit-learn中的KNN"
   ]
  },
  {
   "cell_type": "code",
   "execution_count": 34,
   "metadata": {},
   "outputs": [],
   "source": [
    "from sklearn.neighbors import KNeighborsClassifier\n",
    "x = np.array([8.093,3.365])\n"
   ]
  },
  {
   "cell_type": "code",
   "execution_count": 31,
   "metadata": {},
   "outputs": [],
   "source": [
    "KNN_classifier = KNeighborsClassifier(n_neighbors = 6)"
   ]
  },
  {
   "cell_type": "code",
   "execution_count": 32,
   "metadata": {},
   "outputs": [
    {
     "data": {
      "text/plain": [
       "KNeighborsClassifier(algorithm='auto', leaf_size=30, metric='minkowski',\n",
       "           metric_params=None, n_jobs=None, n_neighbors=6, p=2,\n",
       "           weights='uniform')"
      ]
     },
     "execution_count": 32,
     "metadata": {},
     "output_type": "execute_result"
    }
   ],
   "source": [
    "KNN_classifier.fit(X_train,y_train)\n",
    "# 返回值是对象的自身"
   ]
  },
  {
   "cell_type": "code",
   "execution_count": 39,
   "metadata": {},
   "outputs": [
    {
     "ename": "ValueError",
     "evalue": "Expected 2D array, got 1D array instead:\narray=[8.093 3.365].\nReshape your data either using array.reshape(-1, 1) if your data has a single feature or array.reshape(1, -1) if it contains a single sample.",
     "traceback": [
      "\u001b[1;31m---------------------------------------------------------------------------\u001b[0m",
      "\u001b[1;31mValueError\u001b[0m                                Traceback (most recent call last)",
      "\u001b[1;32m<ipython-input-39-b9e10d84b738>\u001b[0m in \u001b[0;36m<module>\u001b[1;34m()\u001b[0m\n\u001b[1;32m----> 1\u001b[1;33m \u001b[0mKNN_classifier\u001b[0m\u001b[1;33m.\u001b[0m\u001b[0mpredict\u001b[0m\u001b[1;33m(\u001b[0m\u001b[0mx\u001b[0m\u001b[1;33m)\u001b[0m\u001b[1;33m\u001b[0m\u001b[0m\n\u001b[0m",
      "\u001b[1;32mD:\\anaconda2\\envs\\py3\\lib\\site-packages\\sklearn\\neighbors\\classification.py\u001b[0m in \u001b[0;36mpredict\u001b[1;34m(self, X)\u001b[0m\n\u001b[0;32m    145\u001b[0m             \u001b[0mClass\u001b[0m \u001b[0mlabels\u001b[0m \u001b[1;32mfor\u001b[0m \u001b[0meach\u001b[0m \u001b[0mdata\u001b[0m \u001b[0msample\u001b[0m\u001b[1;33m.\u001b[0m\u001b[1;33m\u001b[0m\u001b[0m\n\u001b[0;32m    146\u001b[0m         \"\"\"\n\u001b[1;32m--> 147\u001b[1;33m         \u001b[0mX\u001b[0m \u001b[1;33m=\u001b[0m \u001b[0mcheck_array\u001b[0m\u001b[1;33m(\u001b[0m\u001b[0mX\u001b[0m\u001b[1;33m,\u001b[0m \u001b[0maccept_sparse\u001b[0m\u001b[1;33m=\u001b[0m\u001b[1;34m'csr'\u001b[0m\u001b[1;33m)\u001b[0m\u001b[1;33m\u001b[0m\u001b[0m\n\u001b[0m\u001b[0;32m    148\u001b[0m \u001b[1;33m\u001b[0m\u001b[0m\n\u001b[0;32m    149\u001b[0m         \u001b[0mneigh_dist\u001b[0m\u001b[1;33m,\u001b[0m \u001b[0mneigh_ind\u001b[0m \u001b[1;33m=\u001b[0m \u001b[0mself\u001b[0m\u001b[1;33m.\u001b[0m\u001b[0mkneighbors\u001b[0m\u001b[1;33m(\u001b[0m\u001b[0mX\u001b[0m\u001b[1;33m)\u001b[0m\u001b[1;33m\u001b[0m\u001b[0m\n",
      "\u001b[1;32mD:\\anaconda2\\envs\\py3\\lib\\site-packages\\sklearn\\utils\\validation.py\u001b[0m in \u001b[0;36mcheck_array\u001b[1;34m(array, accept_sparse, accept_large_sparse, dtype, order, copy, force_all_finite, ensure_2d, allow_nd, ensure_min_samples, ensure_min_features, warn_on_dtype, estimator)\u001b[0m\n\u001b[0;32m    545\u001b[0m                     \u001b[1;34m\"Reshape your data either using array.reshape(-1, 1) if \"\u001b[0m\u001b[1;33m\u001b[0m\u001b[0m\n\u001b[0;32m    546\u001b[0m                     \u001b[1;34m\"your data has a single feature or array.reshape(1, -1) \"\u001b[0m\u001b[1;33m\u001b[0m\u001b[0m\n\u001b[1;32m--> 547\u001b[1;33m                     \"if it contains a single sample.\".format(array))\n\u001b[0m\u001b[0;32m    548\u001b[0m \u001b[1;33m\u001b[0m\u001b[0m\n\u001b[0;32m    549\u001b[0m         \u001b[1;31m# in the future np.flexible dtypes will be handled like object dtypes\u001b[0m\u001b[1;33m\u001b[0m\u001b[1;33m\u001b[0m\u001b[0m\n",
      "\u001b[1;31mValueError\u001b[0m: Expected 2D array, got 1D array instead:\narray=[8.093 3.365].\nReshape your data either using array.reshape(-1, 1) if your data has a single feature or array.reshape(1, -1) if it contains a single sample."
     ],
     "output_type": "error"
    }
   ],
   "source": [
    "KNN_classifier.predict(x)\n",
    "#需要reshape(-1,1)"
   ]
  },
  {
   "cell_type": "code",
   "execution_count": 36,
   "metadata": {},
   "outputs": [],
   "source": [
    "x_predict = x.reshape(1,-1)"
   ]
  },
  {
   "cell_type": "code",
   "execution_count": 37,
   "metadata": {},
   "outputs": [
    {
     "data": {
      "text/plain": [
       "array([[8.093, 3.365]])"
      ]
     },
     "execution_count": 37,
     "metadata": {},
     "output_type": "execute_result"
    }
   ],
   "source": [
    "x_predict"
   ]
  },
  {
   "cell_type": "code",
   "execution_count": 40,
   "metadata": {},
   "outputs": [],
   "source": [
    "y_predict = KNN_classifier.predict(x_predict)"
   ]
  },
  {
   "cell_type": "code",
   "execution_count": 42,
   "metadata": {},
   "outputs": [
    {
     "data": {
      "text/plain": [
       "1"
      ]
     },
     "execution_count": 42,
     "metadata": {},
     "output_type": "execute_result"
    }
   ],
   "source": [
    "y_predict[0]"
   ]
  },
  {
   "cell_type": "markdown",
   "metadata": {},
   "source": [
    "### 重新整合我们的kNN代码"
   ]
  },
  {
   "cell_type": "code",
   "execution_count": null,
   "metadata": {},
   "outputs": [],
   "source": [
    "# -*- coding: UTF-8 -*-\n",
    "\n",
    "import  numpy as np\n",
    "from math import  sqrt\n",
    "from collections import  Counter\n",
    "\n",
    "\n",
    "class KNNClassifier:\n",
    "    def __init__(self,k):\n",
    "        \"\"\"初始化KNN分类器\"\"\"\n",
    "        assert  k>=1, \\\n",
    "            \"k must be valid\"\n",
    "        self.k = k\n",
    "        \"\"\"        x_train y_train训练数据集\n",
    "        \"\"\"\n",
    "        self._X_train = None\n",
    "        self._y_train = None\n",
    "\n",
    "    def fit(self,X_train,y_train):\n",
    "        \"\"\"根据训练数据集X_train 和 y_train训练KNN分类器\n",
    "        遵守siciket-learn 标准 可以送到其他方法中\"\"\"\n",
    "        assert  X_train.shape[0] == y_train.shape[0], \\\n",
    "          \"the size of X_train must be equal to the size of y_train\"\n",
    "        assert  self.k <= X_train.shape[0] , \\\n",
    "          \"the size of X_train must be at least k\"\n",
    "\n",
    "        self._X_train = X_train\n",
    "        self._y_train = y_train\n",
    "        return self\n",
    "\n",
    "    def predict(self,X_predict):\n",
    "        \"\"\"        给定待预测数据集X_predict,返回表示X_predict的结果向量\n",
    "\"\"\"\n",
    "\n",
    "        assert self._X_train is not None and self._y_train is not None, \\\n",
    "           \"must fit before predict!\"\n",
    "        assert  X_predict.shape[1] == self._X_train.shape[1] , \\\n",
    "           \"the feature number of X_predict must be equal to X_train\"\n",
    "\n",
    "        y_predict = [self._predict(x) for x in X_predict]\n",
    "        return  np.array(y_predict)\n",
    "\n",
    "\n",
    "    def _predict(self,x):\n",
    "        \"\"\"给定单个待预测数据x,返回x的预测结果值\"\"\"\n",
    "        assert  x.shape[0] == self._X_train.shape[1] , \\\n",
    "          \"the feature number of x must be equal to X_train\"\n",
    "\n",
    "        distances = [sqrt(np.sum((x_train - x)**2))\n",
    "                     for x_train in self._X_train]\n",
    "\n",
    "        nearest = np.argsort(distances)\n",
    "\n",
    "        topK_y = [self._y_train[i] for i in nearest[:self.k]]\n",
    "        votes = Counter(topK_y)\n",
    "\n",
    "        return votes.most_common(1)[0][0]\n",
    "\n",
    "    def __repr__(self):\n",
    "        return \"KNN(k =%d)\" %self.k\n",
    "\n",
    "if __name__ == '__main__':\n",
    "        knn_clf = KNNClassifier(k = 6)\n",
    "\n",
    "        raw_data_x = [[3.333, 2.313],\n",
    "                      [3.111, 1.781],\n",
    "                      [1.343, 3.368],\n",
    "                      [3.582, 4.679],\n",
    "                      [2.280, 2.866],\n",
    "                      [7.423, 4.696],\n",
    "                      [5.745, 3.533],\n",
    "                      [9.172, 2.511],\n",
    "                      [7.792, 3.424],\n",
    "                      [7.939, 0.791]]\n",
    "        raw_data_y = [0, 0, 0, 0, 0, 1, 1, 1, 1, 1]\n",
    "\n",
    "        X_train = np.array(raw_data_x)\n",
    "        y_train = np.array(raw_data_y)\n",
    "\n",
    "        x = np.array([8.093, 3.365])\n",
    "        x_predict = x.reshape(1,-1)\n",
    "        knn_clf.fit(X_train, y_train)\n",
    "\n",
    "\n",
    "        y_predict = knn_clf.predict(x_predict)\n",
    "        print(y_predict[0])"
   ]
  },
  {
   "cell_type": "markdown",
   "metadata": {},
   "source": [
    "### 4.3训练数据集、测试数据集\n",
    "#### 判断机器学习算法的性能\n",
    "- 训练得到的模型直接在真实环境中使用\n",
    "- 问题:\n",
    "  - 模型很差怎么办?真实损失(无法及时调整模型)\n",
    "  - 真实环境难以拿到真实label?\n",
    "- 结论:cant take all data as train dataset and devote it into product environment \n",
    "- 改进方法:训练测试数据 分离 80% 20%\n",
    "- train test split训练测试数据集切分"
   ]
  },
  {
   "cell_type": "markdown",
   "metadata": {},
   "source": [
    "### 测试我们的算法"
   ]
  },
  {
   "cell_type": "code",
   "execution_count": 43,
   "metadata": {},
   "outputs": [],
   "source": [
    "import numpy as np\n",
    "import matplotlib.pyplot as plt\n",
    "from sklearn import datasets"
   ]
  },
  {
   "cell_type": "code",
   "execution_count": 44,
   "metadata": {},
   "outputs": [],
   "source": [
    "iris = datasets.load_iris()"
   ]
  },
  {
   "cell_type": "code",
   "execution_count": 45,
   "metadata": {},
   "outputs": [],
   "source": [
    "x = iris.data\n",
    "y = iris.target"
   ]
  },
  {
   "cell_type": "code",
   "execution_count": 47,
   "metadata": {},
   "outputs": [
    {
     "data": {
      "text/plain": [
       "(150, 4)"
      ]
     },
     "execution_count": 47,
     "metadata": {},
     "output_type": "execute_result"
    }
   ],
   "source": [
    "x.shape"
   ]
  },
  {
   "cell_type": "code",
   "execution_count": 48,
   "metadata": {},
   "outputs": [
    {
     "data": {
      "text/plain": [
       "(150,)"
      ]
     },
     "execution_count": 48,
     "metadata": {},
     "output_type": "execute_result"
    }
   ],
   "source": [
    "y.shape"
   ]
  },
  {
   "cell_type": "markdown",
   "metadata": {},
   "source": [
    "### train_test_split\n"
   ]
  },
  {
   "cell_type": "code",
   "execution_count": 50,
   "metadata": {},
   "outputs": [
    {
     "data": {
      "text/plain": [
       "array([0, 0, 0, 0, 0, 0, 0, 0, 0, 0, 0, 0, 0, 0, 0, 0, 0, 0, 0, 0, 0, 0,\n",
       "       0, 0, 0, 0, 0, 0, 0, 0, 0, 0, 0, 0, 0, 0, 0, 0, 0, 0, 0, 0, 0, 0,\n",
       "       0, 0, 0, 0, 0, 0, 1, 1, 1, 1, 1, 1, 1, 1, 1, 1, 1, 1, 1, 1, 1, 1,\n",
       "       1, 1, 1, 1, 1, 1, 1, 1, 1, 1, 1, 1, 1, 1, 1, 1, 1, 1, 1, 1, 1, 1,\n",
       "       1, 1, 1, 1, 1, 1, 1, 1, 1, 1, 1, 1, 2, 2, 2, 2, 2, 2, 2, 2, 2, 2,\n",
       "       2, 2, 2, 2, 2, 2, 2, 2, 2, 2, 2, 2, 2, 2, 2, 2, 2, 2, 2, 2, 2, 2,\n",
       "       2, 2, 2, 2, 2, 2, 2, 2, 2, 2, 2, 2, 2, 2, 2, 2, 2, 2])"
      ]
     },
     "execution_count": 50,
     "metadata": {},
     "output_type": "execute_result"
    }
   ],
   "source": [
    "###由于训练数据集已经按照顺序排列好了 需要打乱才可以\n",
    "y"
   ]
  },
  {
   "cell_type": "code",
   "execution_count": 54,
   "metadata": {},
   "outputs": [],
   "source": [
    "#可以将两个矩阵合并起来 自己实现\n",
    "shuffle_indexes = np.random.permutation(len(x))#给定一个数的随机排列"
   ]
  },
  {
   "cell_type": "code",
   "execution_count": 55,
   "metadata": {},
   "outputs": [
    {
     "data": {
      "text/plain": [
       "array([ 81,  72, 116, 130, 118,  31, 101,  61,  79,  51, 139, 125, 146,\n",
       "        96,  15,  97, 148, 107,  24,  78, 144,  88,  40,  11,  63,  83,\n",
       "        41,  20,  49,  46,  73,   7, 127,  66,  62,  60, 102, 149, 142,\n",
       "       145,   9,  74, 135,  70, 106, 128,  86,  65, 113,  23,  17,   2,\n",
       "        59,  84, 122,   8,  13,  93, 123,   6,  54, 103,  57,  43,  19,\n",
       "        55,  28,  39,  75, 100, 109, 117, 126,   1,  42,  77,  47,   5,\n",
       "        12,  36,  44,  56, 140,  25,  82, 138, 108,  33,  16,  10,  92,\n",
       "        27,  53, 105, 131, 137,   3,  64,  90,  21,  87,   0,  32,  69,\n",
       "        38, 119,  29,  26, 134,  48, 143, 136,  18,  35,  76, 110,  14,\n",
       "        58,  91, 121,  50, 141,  80, 147,  37,  98,  67,  45, 114,  22,\n",
       "        52,  89,   4, 120,  34, 104,  71, 111,  85,  99, 115, 129, 112,\n",
       "        95, 132,  30, 133,  68, 124,  94])"
      ]
     },
     "execution_count": 55,
     "metadata": {},
     "output_type": "execute_result"
    }
   ],
   "source": [
    "shuffle_indexes"
   ]
  },
  {
   "cell_type": "code",
   "execution_count": 56,
   "metadata": {},
   "outputs": [],
   "source": [
    "test_ratio = 0.2\n",
    "test_size = int(len(x) * test_ratio)"
   ]
  },
  {
   "cell_type": "code",
   "execution_count": 57,
   "metadata": {},
   "outputs": [
    {
     "data": {
      "text/plain": [
       "30"
      ]
     },
     "execution_count": 57,
     "metadata": {},
     "output_type": "execute_result"
    }
   ],
   "source": [
    "test_size"
   ]
  },
  {
   "cell_type": "code",
   "execution_count": 58,
   "metadata": {},
   "outputs": [],
   "source": [
    "test_indexes = shuffle_indexes[:test_size]\n",
    "train_indexes = shuffle_indexes[test_size:]"
   ]
  },
  {
   "cell_type": "code",
   "execution_count": 60,
   "metadata": {},
   "outputs": [],
   "source": [
    "x_train = x[train_indexes]\n",
    "y_train = y[train_indexes]\n",
    "\n",
    "x_test = x[test_indexes]\n",
    "y_test = y[test_indexes]"
   ]
  },
  {
   "cell_type": "code",
   "execution_count": 61,
   "metadata": {},
   "outputs": [
    {
     "name": "stdout",
     "output_type": "stream",
     "text": [
      "(30, 4)\n",
      "(30,)\n"
     ]
    }
   ],
   "source": [
    "print(x_test.shape)\n",
    "print(y_test.shape)"
   ]
  },
  {
   "cell_type": "code",
   "execution_count": null,
   "metadata": {},
   "outputs": [],
   "source": []
  }
 ],
 "metadata": {
  "kernelspec": {
   "display_name": "Python py3",
   "language": "python",
   "name": "py3"
  },
  "language_info": {
   "codemirror_mode": {
    "name": "ipython",
    "version": 3
   },
   "file_extension": ".py",
   "mimetype": "text/x-python",
   "name": "python",
   "nbconvert_exporter": "python",
   "pygments_lexer": "ipython3",
   "version": "3.5.6"
  }
 },
 "nbformat": 4,
 "nbformat_minor": 2
}
